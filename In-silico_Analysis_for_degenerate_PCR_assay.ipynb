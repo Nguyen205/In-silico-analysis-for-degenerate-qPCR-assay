{
 "cells": [
  {
   "cell_type": "markdown",
   "id": "3d8273c0",
   "metadata": {},
   "source": [
    "### Import relevant functions"
   ]
  },
  {
   "cell_type": "code",
   "execution_count": 1,
   "id": "03af1440",
   "metadata": {},
   "outputs": [],
   "source": [
    "import numpy as np\n",
    "import pandas as pd\n",
    "import seaborn as sns\n",
    "import matplotlib.pyplot as plt\n",
    "import math\n",
    "import itertools\n",
    "from collections import Counter\n",
    "from collections import defaultdict"
   ]
  },
  {
   "cell_type": "markdown",
   "id": "063d7595",
   "metadata": {},
   "source": [
    "### Define functions"
   ]
  },
  {
   "cell_type": "code",
   "execution_count": 2,
   "id": "3053fdca",
   "metadata": {},
   "outputs": [],
   "source": [
    "#Search for ATCG nucleotides\n",
    "def stranger(A):\n",
    "  Random_bases = {'R':['A','G'],'Y':['C','T'],'M':['A','C'],'K':['G','T'],'S':['G','C'],'W':['A','T'],'H':['A','C','T'],'B':['G','C','T'],'V':['A','C','G'],'D':['A','G','T'],'N':['A','C','G','T']}\n",
    "  T = []\n",
    "  F = []\n",
    "  for seq in A:\n",
    "    a = 0\n",
    "    for D in Random_bases.keys(): \n",
    "      if seq.find(D) == -1:\n",
    "        a += 1\n",
    "    if a == 11:\n",
    "      T.append(seq)\n",
    "    else:\n",
    "      F.append(seq)\n",
    "  return(F)\n",
    "\n",
    "#Search for multiple nucleotides\n",
    "def hero(A):\n",
    "  Random_bases = {'R':['A','G'],'Y':['C','T'],'M':['A','C'],'K':['G','T'],'S':['G','C'],'W':['A','T'],'H':['A','C','T'],'B':['G','C','T'],'V':['A','C','G'],'D':['A','G','T'],'N':['A','C','G','T']}\n",
    "  T = []\n",
    "  F = []\n",
    "  for seq in A:\n",
    "    a = 0\n",
    "    for D in Random_bases.keys(): \n",
    "      if seq.find(D) == -1:\n",
    "        a += 1\n",
    "    if a == 11:\n",
    "      T.append(seq)\n",
    "    else:\n",
    "      F.append(seq)\n",
    "  return(T)\n",
    "\n",
    "#Replacement of degenerate PCR with ATCG\n",
    "def translate(B):\n",
    "  Random_bases = {'R':['A','G'],'Y':['C','T'],'M':['A','C'],'K':['G','T'],'S':['G','C'],'W':['A','T'],'H':['A','C','T'],'B':['G','C','T'],'V':['A','C','G'],'D':['A','G','T'],'N':['A','C','G','T']}\n",
    "  A = []\n",
    "  for seq in B:\n",
    "    for D in Random_bases.keys(): \n",
    "      if seq.find(D) != -1:\n",
    "        for d in Random_bases[D]:\n",
    "          a = seq.replace(D,d,1)        \n",
    "          A.append(a)        \n",
    "  return(A)\n",
    "\n",
    "#Translation of degenerate PCR to ATCG PCR\n",
    "def translation(Input):\n",
    "  Translation = []\n",
    "  a = []\n",
    "  b = []\n",
    "\n",
    "  Translation.extend(hero(Input))\n",
    "  b = translate(Input)\n",
    "\n",
    "  Translation.extend(hero(b))\n",
    "  b1 = translate(b)\n",
    "\n",
    "  Translation.extend(hero(b1))\n",
    "  b2 = translate(b1)\n",
    "\n",
    "  Translation.extend(hero(b2))\n",
    "  b3 = translate(b2)\n",
    "\n",
    "  Translation.extend(hero(b3))\n",
    "  b4 = translate(b3)\n",
    "\n",
    "  Translation.extend(hero(b4))\n",
    "  b5 = translate(b4)\n",
    "\n",
    "  Translation.extend(hero(b5))\n",
    "  b6 = translate(b5)\n",
    "\n",
    "  return(Translation)\n",
    "\n",
    "#Generation of PCR assays with FP/RP/Probe\n",
    "def comb(FP,P,RP):\n",
    "  comb = {}\n",
    "  a = 0\n",
    "  for f in FP:\n",
    "    for p in P:\n",
    "      for r in RP:\n",
    "        a += 1\n",
    "        comb[a]=[f,p,r]\n",
    "  return(comb)\n",
    "\n",
    "#Find reverse_complement sequence\n",
    "def complement(DNA1):\n",
    "  comp = {'A':'T', 'T':'A', 'C':'G', 'G':'C', 'R':'Y', 'Y':'R', 'M':'K', 'K':'M', 'S':'S', 'W':'W', 'H':'D', 'D':'H', 'B':'V', 'V':'B', 'N':'N'}\n",
    "  compDNA = ''\n",
    "  for b in DNA1:\n",
    "    compDNA += comp[b]\n",
    "  return compDNA\n",
    "\n",
    "def reverse(DNA2):\n",
    "  return DNA2[::-1]\n",
    "\n",
    "def reverse_complement(DNA3):\n",
    "  b = []\n",
    "  for x in DNA3:\n",
    "    compDNA = complement(x)\n",
    "    revCompDNA = reverse(compDNA)\n",
    "    b.append(revCompDNA)\n",
    "  return b\n",
    "\n",
    "#Generation of ATCG PCR combinations from degenerate PCR\n",
    "def combination(A, B, C):\n",
    "  A1 = translation(A)\n",
    "  B1 = translation(B)\n",
    "  C1 = reverse_complement(translation(C))\n",
    "  return comb(A1, B1, C1)\n",
    "\n",
    "#Search for the degenerate PCR sequences within the viral genome sequences\n",
    "def do_primers_work(A,B,C):\n",
    "  D = combination(A,B,C)\n",
    "  variant_qPCR_results = {}\n",
    "  for seq_key in FASTA_dict.keys():\n",
    "    number = 0\n",
    "    variant_qPCR_results[seq_key] = []\n",
    "    for x in D.keys():\n",
    "      number_Total = 0\n",
    "      for target_seq1 in D[x]:\n",
    "        if FASTA_dict[seq_key].count(target_seq1) != 0:\n",
    "          number_Total += 1\n",
    "      if number_Total == 3:\n",
    "        number += 1\n",
    "    if number != 0: \n",
    "      variant_qPCR_results[seq_key].append(True)\n",
    "    else:\n",
    "      variant_qPCR_results[seq_key].append(False)                    \n",
    "\n",
    "  return(variant_qPCR_results)\n",
    "  "
   ]
  },
  {
   "cell_type": "markdown",
   "id": "c0d2f382",
   "metadata": {},
   "source": [
    "### Input PCR sequences"
   ]
  },
  {
   "cell_type": "code",
   "execution_count": 3,
   "id": "6863884d",
   "metadata": {},
   "outputs": [
    {
     "data": {
      "text/plain": [
       "5120"
      ]
     },
     "execution_count": 3,
     "metadata": {},
     "output_type": "execute_result"
    }
   ],
   "source": [
    "#https://www.ncbi.nlm.nih.gov/pmc/articles/PMC7816162/#bib0070\n",
    "FP = ['TGGACNCGYGGNCCYAAYCA']\n",
    "\n",
    "#reverse complement\n",
    "P = ['A']\n",
    "\n",
    "#reverse complement\n",
    "RP = ['CCAACCCARCCATTRTACA']\n",
    "\n",
    "len(combination(FP,P,RP))"
   ]
  },
  {
   "cell_type": "markdown",
   "id": "71ba475a",
   "metadata": {},
   "source": [
    "### Input genome sequences "
   ]
  },
  {
   "cell_type": "code",
   "execution_count": null,
   "id": "42b830c3",
   "metadata": {},
   "outputs": [],
   "source": [
    "FASTA_file_1 = 'Human norovirus_USA.fasta'\n",
    "\n",
    "FASTA_dict = {}\n",
    "entry = False\n",
    "\n",
    "with open(FASTA_file_1,'r') as f:\n",
    "    for line in f:\n",
    "        if line.startswith('>'):\n",
    "            if entry:\n",
    "                FASTA_dict[seq_name] = seq\n",
    "            seq_name = line.lstrip('>').rstrip('\\n')\n",
    "            seq = ''\n",
    "            entry = True\n",
    "        else:\n",
    "            seq += line.rstrip('\\n')\n",
    "\n",
    " \n",
    "            \n",
    "len(FASTA_dict)"
   ]
  },
  {
   "cell_type": "code",
   "execution_count": null,
   "id": "010b5d64",
   "metadata": {},
   "outputs": [],
   "source": [
    "### Result of In silico analysis"
   ]
  },
  {
   "cell_type": "code",
   "execution_count": null,
   "id": "843877bc",
   "metadata": {},
   "outputs": [],
   "source": [
    "a = do_primers_work(FP,P,RP)\n",
    "\n",
    "T = 0\n",
    "F = 0\n",
    "for values in a.values():\n",
    "    if values.count(True) == 1:\n",
    "        T += 1\n",
    "    else:\n",
    "        F += 1\n",
    "\n",
    "print (T)\n",
    "print (F)"
   ]
  },
  {
   "cell_type": "code",
   "execution_count": null,
   "id": "280680cf",
   "metadata": {},
   "outputs": [],
   "source": []
  }
 ],
 "metadata": {
  "kernelspec": {
   "display_name": "Python 3",
   "language": "python",
   "name": "python3"
  },
  "language_info": {
   "codemirror_mode": {
    "name": "ipython",
    "version": 3
   },
   "file_extension": ".py",
   "mimetype": "text/x-python",
   "name": "python",
   "nbconvert_exporter": "python",
   "pygments_lexer": "ipython3",
   "version": "3.8.8"
  }
 },
 "nbformat": 4,
 "nbformat_minor": 5
}
